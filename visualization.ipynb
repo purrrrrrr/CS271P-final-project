{
 "cells": [
  {
   "cell_type": "code",
   "execution_count": 1,
   "id": "2287993d",
   "metadata": {},
   "outputs": [],
   "source": [
    "import numpy as np\n",
    "import pandas as pd\n",
    "import matplotlib.pyplot as plt\n",
    "import seaborn as sns\n",
    "from tqdm import tqdm\n",
    "import cv2\n",
    "import math\n",
    "import os\n",
    "import sys\n",
    "import dlib\n",
    "import csv"
   ]
  },
  {
   "cell_type": "code",
   "execution_count": 2,
   "id": "07e26c38",
   "metadata": {},
   "outputs": [
    {
     "data": {
      "text/plain": [
       "'C:\\\\Users\\\\pendr\\\\cs271_local\\\\271_project'"
      ]
     },
     "execution_count": 2,
     "metadata": {},
     "output_type": "execute_result"
    }
   ],
   "source": [
    "# INFO, WARNING, and ERROR messages are not printed\n",
    "os.environ['TF_CPP_MIN_LOG_LEVEL'] = '3'\n",
    "os.getcwd() # working directory"
   ]
  },
  {
   "cell_type": "code",
   "execution_count": 13,
   "id": "e7f9e588",
   "metadata": {},
   "outputs": [],
   "source": [
    "train_pairs = pd.read_csv(\"train-pairs.csv\")\n",
    "val_pairs = pd.read_csv(\"train-pairs-updated.csv\")\n",
    "test_pairs = pd.read_csv(\"test_competition.csv\")"
   ]
  },
  {
   "cell_type": "code",
   "execution_count": 15,
   "id": "79bd8652",
   "metadata": {},
   "outputs": [
    {
     "data": {
      "text/html": [
       "<div>\n",
       "<style scoped>\n",
       "    .dataframe tbody tr th:only-of-type {\n",
       "        vertical-align: middle;\n",
       "    }\n",
       "\n",
       "    .dataframe tbody tr th {\n",
       "        vertical-align: top;\n",
       "    }\n",
       "\n",
       "    .dataframe thead th {\n",
       "        text-align: right;\n",
       "    }\n",
       "</style>\n",
       "<table border=\"1\" class=\"dataframe\">\n",
       "  <thead>\n",
       "    <tr style=\"text-align: right;\">\n",
       "      <th></th>\n",
       "      <th>p1</th>\n",
       "      <th>p2</th>\n",
       "      <th>ptype</th>\n",
       "      <th>fid1</th>\n",
       "      <th>fid2</th>\n",
       "      <th>tags</th>\n",
       "      <th>set</th>\n",
       "      <th>nsamples</th>\n",
       "    </tr>\n",
       "  </thead>\n",
       "  <tbody>\n",
       "    <tr>\n",
       "      <th>0</th>\n",
       "      <td>F0001/MID1</td>\n",
       "      <td>F0001/MID3</td>\n",
       "      <td>fs</td>\n",
       "      <td>F0001</td>\n",
       "      <td>F0001</td>\n",
       "      <td>0</td>\n",
       "      <td>0</td>\n",
       "      <td>6</td>\n",
       "    </tr>\n",
       "    <tr>\n",
       "      <th>1</th>\n",
       "      <td>F0001/MID1</td>\n",
       "      <td>F0001/MID4</td>\n",
       "      <td>fs</td>\n",
       "      <td>F0001</td>\n",
       "      <td>F0001</td>\n",
       "      <td>0</td>\n",
       "      <td>0</td>\n",
       "      <td>18</td>\n",
       "    </tr>\n",
       "    <tr>\n",
       "      <th>2</th>\n",
       "      <td>F0001/MID2</td>\n",
       "      <td>F0001/MID4</td>\n",
       "      <td>ms</td>\n",
       "      <td>F0001</td>\n",
       "      <td>F0001</td>\n",
       "      <td>0</td>\n",
       "      <td>0</td>\n",
       "      <td>15</td>\n",
       "    </tr>\n",
       "    <tr>\n",
       "      <th>3</th>\n",
       "      <td>F0001/MID2</td>\n",
       "      <td>F0001/MID3</td>\n",
       "      <td>ms</td>\n",
       "      <td>F0001</td>\n",
       "      <td>F0001</td>\n",
       "      <td>0</td>\n",
       "      <td>0</td>\n",
       "      <td>5</td>\n",
       "    </tr>\n",
       "    <tr>\n",
       "      <th>4</th>\n",
       "      <td>F0001/MID3</td>\n",
       "      <td>F0001/MID4</td>\n",
       "      <td>ss</td>\n",
       "      <td>F0001</td>\n",
       "      <td>F0001</td>\n",
       "      <td>0</td>\n",
       "      <td>0</td>\n",
       "      <td>3</td>\n",
       "    </tr>\n",
       "  </tbody>\n",
       "</table>\n",
       "</div>"
      ],
      "text/plain": [
       "           p1          p2 ptype   fid1   fid2  tags  set  nsamples\n",
       "0  F0001/MID1  F0001/MID3    fs  F0001  F0001     0    0         6\n",
       "1  F0001/MID1  F0001/MID4    fs  F0001  F0001     0    0        18\n",
       "2  F0001/MID2  F0001/MID4    ms  F0001  F0001     0    0        15\n",
       "3  F0001/MID2  F0001/MID3    ms  F0001  F0001     0    0         5\n",
       "4  F0001/MID3  F0001/MID4    ss  F0001  F0001     0    0         3"
      ]
     },
     "execution_count": 15,
     "metadata": {},
     "output_type": "execute_result"
    }
   ],
   "source": [
    "train_pairs.head()"
   ]
  },
  {
   "cell_type": "code",
   "execution_count": 9,
   "id": "89ca8dc5",
   "metadata": {},
   "outputs": [
    {
     "data": {
      "text/plain": [
       "<AxesSubplot:>"
      ]
     },
     "execution_count": 9,
     "metadata": {},
     "output_type": "execute_result"
    },
    {
     "data": {
      "image/png": "[encoded data removed]",
      "text/plain": [
       "<Figure size 432x288 with 1 Axes>"
      ]
     },
     "metadata": {},
     "output_type": "display_data"
    }
   ],
   "source": [
    "train_pairs.ptype.value_counts().plot(kind='barh', color = \"blue\")"
   ]
  },
  {
   "cell_type": "code",
   "execution_count": 12,
   "id": "2d01ba12",
   "metadata": {},
   "outputs": [
    {
     "data": {
      "text/plain": [
       "<AxesSubplot:>"
      ]
     },
     "execution_count": 12,
     "metadata": {},
     "output_type": "execute_result"
    },
    {
     "data": {
      "image/png": "[encoded data removed]",
      "text/plain": [
       "<Figure size 432x288 with 1 Axes>"
      ]
     },
     "metadata": {},
     "output_type": "display_data"
    }
   ],
   "source": [
    "val_pairs.ptype.value_counts().plot(kind='barh', color = \"green\")"
   ]
  },
  {
   "cell_type": "code",
   "execution_count": 14,
   "id": "618dc7e7",
   "metadata": {},
   "outputs": [
    {
     "data": {
      "text/plain": [
       "<AxesSubplot:>"
      ]
     },
     "execution_count": 14,
     "metadata": {},
     "output_type": "execute_result"
    },
    {
     "data": {
      "image/png": "[encoded data removed]",
      "text/plain": [
       "<Figure size 432x288 with 1 Axes>"
      ]
     },
     "metadata": {},
     "output_type": "display_data"
    }
   ],
   "source": [
    "test_pairs.ptype.value_counts().plot(kind='barh', color = \"red\")"
   ]
  },
  {
   "cell_type": "code",
   "execution_count": 24,
   "id": "54da5c22",
   "metadata": {},
   "outputs": [
    {
     "data": {
      "text/html": [
       "<div>\n",
       "<style scoped>\n",
       "    .dataframe tbody tr th:only-of-type {\n",
       "        vertical-align: middle;\n",
       "    }\n",
       "\n",
       "    .dataframe tbody tr th {\n",
       "        vertical-align: top;\n",
       "    }\n",
       "\n",
       "    .dataframe thead th {\n",
       "        text-align: right;\n",
       "    }\n",
       "</style>\n",
       "<table border=\"1\" class=\"dataframe\">\n",
       "  <thead>\n",
       "    <tr style=\"text-align: right;\">\n",
       "      <th></th>\n",
       "      <th>nsamples</th>\n",
       "    </tr>\n",
       "    <tr>\n",
       "      <th>ptype</th>\n",
       "      <th></th>\n",
       "    </tr>\n",
       "  </thead>\n",
       "  <tbody>\n",
       "    <tr>\n",
       "      <th>gfgd</th>\n",
       "      <td>14.728</td>\n",
       "    </tr>\n",
       "    <tr>\n",
       "      <th>gmgd</th>\n",
       "      <td>15.009</td>\n",
       "    </tr>\n",
       "    <tr>\n",
       "      <th>gmgs</th>\n",
       "      <td>16.088</td>\n",
       "    </tr>\n",
       "    <tr>\n",
       "      <th>gfgs</th>\n",
       "      <td>16.911</td>\n",
       "    </tr>\n",
       "    <tr>\n",
       "      <th>sibs</th>\n",
       "      <td>22.718</td>\n",
       "    </tr>\n",
       "    <tr>\n",
       "      <th>bb</th>\n",
       "      <td>29.859</td>\n",
       "    </tr>\n",
       "    <tr>\n",
       "      <th>ss</th>\n",
       "      <td>29.859</td>\n",
       "    </tr>\n",
       "    <tr>\n",
       "      <th>md</th>\n",
       "      <td>40.459</td>\n",
       "    </tr>\n",
       "    <tr>\n",
       "      <th>fd</th>\n",
       "      <td>43.183</td>\n",
       "    </tr>\n",
       "    <tr>\n",
       "      <th>fs</th>\n",
       "      <td>64.609</td>\n",
       "    </tr>\n",
       "    <tr>\n",
       "      <th>ms</th>\n",
       "      <td>65.599</td>\n",
       "    </tr>\n",
       "  </tbody>\n",
       "</table>\n",
       "</div>"
      ],
      "text/plain": [
       "       nsamples\n",
       "ptype          \n",
       "gfgd     14.728\n",
       "gmgd     15.009\n",
       "gmgs     16.088\n",
       "gfgs     16.911\n",
       "sibs     22.718\n",
       "bb       29.859\n",
       "ss       29.859\n",
       "md       40.459\n",
       "fd       43.183\n",
       "fs       64.609\n",
       "ms       65.599"
      ]
     },
     "execution_count": 24,
     "metadata": {},
     "output_type": "execute_result"
    }
   ],
   "source": [
    "train_pairs[[\"ptype\", \"nsamples\"]].groupby(\"ptype\").mean().round(3).sort_values(by = 'nsamples')"
   ]
  },
  {
   "cell_type": "code",
   "execution_count": 25,
   "id": "e372f7f7",
   "metadata": {},
   "outputs": [
    {
     "data": {
      "text/plain": [
       "<AxesSubplot:ylabel='ptype'>"
      ]
     },
     "execution_count": 25,
     "metadata": {},
     "output_type": "execute_result"
    },
    {
     "data": {
      "image/png": "[encoded data removed]",
      "text/plain": [
       "<Figure size 432x288 with 1 Axes>"
      ]
     },
     "metadata": {},
     "output_type": "display_data"
    }
   ],
   "source": [
    "train_pairs[[\"ptype\", \"nsamples\"]].groupby(\"ptype\").mean().plot(kind='barh', color = \"blue\")"
   ]
  },
  {
   "cell_type": "code",
   "execution_count": 26,
   "id": "066361e1",
   "metadata": {},
   "outputs": [
    {
     "data": {
      "text/html": [
       "<div>\n",
       "<style scoped>\n",
       "    .dataframe tbody tr th:only-of-type {\n",
       "        vertical-align: middle;\n",
       "    }\n",
       "\n",
       "    .dataframe tbody tr th {\n",
       "        vertical-align: top;\n",
       "    }\n",
       "\n",
       "    .dataframe thead th {\n",
       "        text-align: right;\n",
       "    }\n",
       "</style>\n",
       "<table border=\"1\" class=\"dataframe\">\n",
       "  <thead>\n",
       "    <tr style=\"text-align: right;\">\n",
       "      <th></th>\n",
       "      <th>nsamples</th>\n",
       "    </tr>\n",
       "    <tr>\n",
       "      <th>ptype</th>\n",
       "      <th></th>\n",
       "    </tr>\n",
       "  </thead>\n",
       "  <tbody>\n",
       "    <tr>\n",
       "      <th>gfgd</th>\n",
       "      <td>14.728</td>\n",
       "    </tr>\n",
       "    <tr>\n",
       "      <th>gmgd</th>\n",
       "      <td>15.009</td>\n",
       "    </tr>\n",
       "    <tr>\n",
       "      <th>gmgs</th>\n",
       "      <td>16.088</td>\n",
       "    </tr>\n",
       "    <tr>\n",
       "      <th>gfgs</th>\n",
       "      <td>16.911</td>\n",
       "    </tr>\n",
       "    <tr>\n",
       "      <th>sibs</th>\n",
       "      <td>22.253</td>\n",
       "    </tr>\n",
       "    <tr>\n",
       "      <th>ss</th>\n",
       "      <td>27.059</td>\n",
       "    </tr>\n",
       "    <tr>\n",
       "      <th>bb</th>\n",
       "      <td>39.968</td>\n",
       "    </tr>\n",
       "    <tr>\n",
       "      <th>md</th>\n",
       "      <td>40.459</td>\n",
       "    </tr>\n",
       "    <tr>\n",
       "      <th>fd</th>\n",
       "      <td>43.183</td>\n",
       "    </tr>\n",
       "    <tr>\n",
       "      <th>fs</th>\n",
       "      <td>64.609</td>\n",
       "    </tr>\n",
       "    <tr>\n",
       "      <th>ms</th>\n",
       "      <td>65.599</td>\n",
       "    </tr>\n",
       "  </tbody>\n",
       "</table>\n",
       "</div>"
      ],
      "text/plain": [
       "       nsamples\n",
       "ptype          \n",
       "gfgd     14.728\n",
       "gmgd     15.009\n",
       "gmgs     16.088\n",
       "gfgs     16.911\n",
       "sibs     22.253\n",
       "ss       27.059\n",
       "bb       39.968\n",
       "md       40.459\n",
       "fd       43.183\n",
       "fs       64.609\n",
       "ms       65.599"
      ]
     },
     "execution_count": 26,
     "metadata": {},
     "output_type": "execute_result"
    }
   ],
   "source": [
    "val_pairs[[\"ptype\", \"nsamples\"]].groupby(\"ptype\").mean().round(3).sort_values(by = 'nsamples')"
   ]
  },
  {
   "cell_type": "code",
   "execution_count": 28,
   "id": "20b4372a",
   "metadata": {},
   "outputs": [
    {
     "data": {
      "text/plain": [
       "<AxesSubplot:ylabel='ptype'>"
      ]
     },
     "execution_count": 28,
     "metadata": {},
     "output_type": "execute_result"
    },
    {
     "data": {
      "image/png": "[encoded data removed]",
      "text/plain": [
       "<Figure size 432x288 with 1 Axes>"
      ]
     },
     "metadata": {},
     "output_type": "display_data"
    }
   ],
   "source": [
    "val_pairs[[\"ptype\", \"nsamples\"]].groupby(\"ptype\").mean().plot(kind='barh', color = \"green\")"
   ]
  },
  {
   "cell_type": "code",
   "execution_count": null,
   "id": "fb9f2129",
   "metadata": {},
   "outputs": [],
   "source": []
  }
 ],
 "metadata": {
  "kernelspec": {
   "display_name": "Python 3",
   "language": "python",
   "name": "python3"
  },
  "language_info": {
   "codemirror_mode": {
    "name": "ipython",
    "version": 3
   },
   "file_extension": ".py",
   "mimetype": "text/x-python",
   "name": "python",
   "nbconvert_exporter": "python",
   "pygments_lexer": "ipython3",
   "version": "3.6.7"
  }
 },
 "nbformat": 4,
 "nbformat_minor": 5
}
